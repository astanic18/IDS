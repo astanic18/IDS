{
 "cells": [
  {
   "cell_type": "code",
   "execution_count": 1,
   "id": "f7ff933a",
   "metadata": {},
   "outputs": [],
   "source": [
    "import pandas as pd"
   ]
  },
  {
   "cell_type": "markdown",
   "id": "565d8231",
   "metadata": {},
   "source": [
    "1. Load the cleaned dataset from the last exercise. If you haven't saved the dataset, rerun the exercise and save the final dataset."
   ]
  },
  {
   "cell_type": "code",
   "execution_count": 4,
   "id": "ed36fe06",
   "metadata": {},
   "outputs": [
    {
     "data": {
      "text/html": [
       "<div>\n",
       "<style scoped>\n",
       "    .dataframe tbody tr th:only-of-type {\n",
       "        vertical-align: middle;\n",
       "    }\n",
       "\n",
       "    .dataframe tbody tr th {\n",
       "        vertical-align: top;\n",
       "    }\n",
       "\n",
       "    .dataframe thead th {\n",
       "        text-align: right;\n",
       "    }\n",
       "</style>\n",
       "<table border=\"1\" class=\"dataframe\">\n",
       "  <thead>\n",
       "    <tr style=\"text-align: right;\">\n",
       "      <th></th>\n",
       "      <th>EthnicGroup</th>\n",
       "      <th>ParentEduc</th>\n",
       "      <th>TestPrep</th>\n",
       "      <th>ParentMaritalStatus</th>\n",
       "      <th>PracticeSport</th>\n",
       "      <th>IsFirstChild</th>\n",
       "      <th>NrSiblings</th>\n",
       "      <th>TransportMeans</th>\n",
       "      <th>WklyStudyHours</th>\n",
       "      <th>MathScore</th>\n",
       "      <th>ReadingScore</th>\n",
       "      <th>WritingScore</th>\n",
       "      <th>Gender_female</th>\n",
       "      <th>Gender_male</th>\n",
       "      <th>LunchType_free/reduced</th>\n",
       "      <th>LunchType_standard</th>\n",
       "    </tr>\n",
       "  </thead>\n",
       "  <tbody>\n",
       "    <tr>\n",
       "      <th>0</th>\n",
       "      <td>2</td>\n",
       "      <td>1</td>\n",
       "      <td>1</td>\n",
       "      <td>1</td>\n",
       "      <td>1</td>\n",
       "      <td>1</td>\n",
       "      <td>3.0</td>\n",
       "      <td>1</td>\n",
       "      <td>1</td>\n",
       "      <td>71</td>\n",
       "      <td>71</td>\n",
       "      <td>74</td>\n",
       "      <td>1.0</td>\n",
       "      <td>0.0</td>\n",
       "      <td>0.0</td>\n",
       "      <td>1.0</td>\n",
       "    </tr>\n",
       "    <tr>\n",
       "      <th>1</th>\n",
       "      <td>2</td>\n",
       "      <td>5</td>\n",
       "      <td>1</td>\n",
       "      <td>1</td>\n",
       "      <td>2</td>\n",
       "      <td>1</td>\n",
       "      <td>0.0</td>\n",
       "      <td>2</td>\n",
       "      <td>0</td>\n",
       "      <td>69</td>\n",
       "      <td>90</td>\n",
       "      <td>88</td>\n",
       "      <td>1.0</td>\n",
       "      <td>0.0</td>\n",
       "      <td>0.0</td>\n",
       "      <td>1.0</td>\n",
       "    </tr>\n",
       "    <tr>\n",
       "      <th>2</th>\n",
       "      <td>1</td>\n",
       "      <td>3</td>\n",
       "      <td>1</td>\n",
       "      <td>2</td>\n",
       "      <td>2</td>\n",
       "      <td>1</td>\n",
       "      <td>4.0</td>\n",
       "      <td>1</td>\n",
       "      <td>1</td>\n",
       "      <td>87</td>\n",
       "      <td>93</td>\n",
       "      <td>91</td>\n",
       "      <td>1.0</td>\n",
       "      <td>0.0</td>\n",
       "      <td>0.0</td>\n",
       "      <td>1.0</td>\n",
       "    </tr>\n",
       "    <tr>\n",
       "      <th>3</th>\n",
       "      <td>0</td>\n",
       "      <td>0</td>\n",
       "      <td>1</td>\n",
       "      <td>1</td>\n",
       "      <td>0</td>\n",
       "      <td>0</td>\n",
       "      <td>1.0</td>\n",
       "      <td>2</td>\n",
       "      <td>0</td>\n",
       "      <td>45</td>\n",
       "      <td>56</td>\n",
       "      <td>42</td>\n",
       "      <td>0.0</td>\n",
       "      <td>1.0</td>\n",
       "      <td>1.0</td>\n",
       "      <td>0.0</td>\n",
       "    </tr>\n",
       "    <tr>\n",
       "      <th>4</th>\n",
       "      <td>2</td>\n",
       "      <td>5</td>\n",
       "      <td>1</td>\n",
       "      <td>1</td>\n",
       "      <td>2</td>\n",
       "      <td>1</td>\n",
       "      <td>0.0</td>\n",
       "      <td>1</td>\n",
       "      <td>0</td>\n",
       "      <td>76</td>\n",
       "      <td>78</td>\n",
       "      <td>75</td>\n",
       "      <td>0.0</td>\n",
       "      <td>1.0</td>\n",
       "      <td>0.0</td>\n",
       "      <td>1.0</td>\n",
       "    </tr>\n",
       "    <tr>\n",
       "      <th>...</th>\n",
       "      <td>...</td>\n",
       "      <td>...</td>\n",
       "      <td>...</td>\n",
       "      <td>...</td>\n",
       "      <td>...</td>\n",
       "      <td>...</td>\n",
       "      <td>...</td>\n",
       "      <td>...</td>\n",
       "      <td>...</td>\n",
       "      <td>...</td>\n",
       "      <td>...</td>\n",
       "      <td>...</td>\n",
       "      <td>...</td>\n",
       "      <td>...</td>\n",
       "      <td>...</td>\n",
       "      <td>...</td>\n",
       "    </tr>\n",
       "    <tr>\n",
       "      <th>29112</th>\n",
       "      <td>3</td>\n",
       "      <td>2</td>\n",
       "      <td>1</td>\n",
       "      <td>2</td>\n",
       "      <td>2</td>\n",
       "      <td>0</td>\n",
       "      <td>2.0</td>\n",
       "      <td>1</td>\n",
       "      <td>0</td>\n",
       "      <td>59</td>\n",
       "      <td>61</td>\n",
       "      <td>65</td>\n",
       "      <td>1.0</td>\n",
       "      <td>0.0</td>\n",
       "      <td>0.0</td>\n",
       "      <td>1.0</td>\n",
       "    </tr>\n",
       "    <tr>\n",
       "      <th>29113</th>\n",
       "      <td>4</td>\n",
       "      <td>2</td>\n",
       "      <td>1</td>\n",
       "      <td>2</td>\n",
       "      <td>1</td>\n",
       "      <td>0</td>\n",
       "      <td>1.0</td>\n",
       "      <td>0</td>\n",
       "      <td>0</td>\n",
       "      <td>58</td>\n",
       "      <td>53</td>\n",
       "      <td>51</td>\n",
       "      <td>0.0</td>\n",
       "      <td>1.0</td>\n",
       "      <td>0.0</td>\n",
       "      <td>1.0</td>\n",
       "    </tr>\n",
       "    <tr>\n",
       "      <th>29114</th>\n",
       "      <td>2</td>\n",
       "      <td>2</td>\n",
       "      <td>0</td>\n",
       "      <td>1</td>\n",
       "      <td>2</td>\n",
       "      <td>0</td>\n",
       "      <td>1.0</td>\n",
       "      <td>0</td>\n",
       "      <td>0</td>\n",
       "      <td>61</td>\n",
       "      <td>70</td>\n",
       "      <td>67</td>\n",
       "      <td>1.0</td>\n",
       "      <td>0.0</td>\n",
       "      <td>1.0</td>\n",
       "      <td>0.0</td>\n",
       "    </tr>\n",
       "    <tr>\n",
       "      <th>29115</th>\n",
       "      <td>3</td>\n",
       "      <td>0</td>\n",
       "      <td>0</td>\n",
       "      <td>1</td>\n",
       "      <td>1</td>\n",
       "      <td>0</td>\n",
       "      <td>3.0</td>\n",
       "      <td>1</td>\n",
       "      <td>0</td>\n",
       "      <td>82</td>\n",
       "      <td>90</td>\n",
       "      <td>93</td>\n",
       "      <td>1.0</td>\n",
       "      <td>0.0</td>\n",
       "      <td>0.0</td>\n",
       "      <td>1.0</td>\n",
       "    </tr>\n",
       "    <tr>\n",
       "      <th>29116</th>\n",
       "      <td>1</td>\n",
       "      <td>5</td>\n",
       "      <td>1</td>\n",
       "      <td>1</td>\n",
       "      <td>0</td>\n",
       "      <td>0</td>\n",
       "      <td>1.0</td>\n",
       "      <td>1</td>\n",
       "      <td>0</td>\n",
       "      <td>64</td>\n",
       "      <td>60</td>\n",
       "      <td>58</td>\n",
       "      <td>0.0</td>\n",
       "      <td>1.0</td>\n",
       "      <td>0.0</td>\n",
       "      <td>1.0</td>\n",
       "    </tr>\n",
       "  </tbody>\n",
       "</table>\n",
       "<p>29117 rows × 16 columns</p>\n",
       "</div>"
      ],
      "text/plain": [
       "       EthnicGroup  ParentEduc  TestPrep  ParentMaritalStatus  PracticeSport  \\\n",
       "0                2           1         1                    1              1   \n",
       "1                2           5         1                    1              2   \n",
       "2                1           3         1                    2              2   \n",
       "3                0           0         1                    1              0   \n",
       "4                2           5         1                    1              2   \n",
       "...            ...         ...       ...                  ...            ...   \n",
       "29112            3           2         1                    2              2   \n",
       "29113            4           2         1                    2              1   \n",
       "29114            2           2         0                    1              2   \n",
       "29115            3           0         0                    1              1   \n",
       "29116            1           5         1                    1              0   \n",
       "\n",
       "       IsFirstChild  NrSiblings  TransportMeans  WklyStudyHours  MathScore  \\\n",
       "0                 1         3.0               1               1         71   \n",
       "1                 1         0.0               2               0         69   \n",
       "2                 1         4.0               1               1         87   \n",
       "3                 0         1.0               2               0         45   \n",
       "4                 1         0.0               1               0         76   \n",
       "...             ...         ...             ...             ...        ...   \n",
       "29112             0         2.0               1               0         59   \n",
       "29113             0         1.0               0               0         58   \n",
       "29114             0         1.0               0               0         61   \n",
       "29115             0         3.0               1               0         82   \n",
       "29116             0         1.0               1               0         64   \n",
       "\n",
       "       ReadingScore  WritingScore  Gender_female  Gender_male  \\\n",
       "0                71            74            1.0          0.0   \n",
       "1                90            88            1.0          0.0   \n",
       "2                93            91            1.0          0.0   \n",
       "3                56            42            0.0          1.0   \n",
       "4                78            75            0.0          1.0   \n",
       "...             ...           ...            ...          ...   \n",
       "29112            61            65            1.0          0.0   \n",
       "29113            53            51            0.0          1.0   \n",
       "29114            70            67            1.0          0.0   \n",
       "29115            90            93            1.0          0.0   \n",
       "29116            60            58            0.0          1.0   \n",
       "\n",
       "       LunchType_free/reduced  LunchType_standard  \n",
       "0                         0.0                 1.0  \n",
       "1                         0.0                 1.0  \n",
       "2                         0.0                 1.0  \n",
       "3                         1.0                 0.0  \n",
       "4                         0.0                 1.0  \n",
       "...                       ...                 ...  \n",
       "29112                     0.0                 1.0  \n",
       "29113                     0.0                 1.0  \n",
       "29114                     1.0                 0.0  \n",
       "29115                     0.0                 1.0  \n",
       "29116                     0.0                 1.0  \n",
       "\n",
       "[29117 rows x 16 columns]"
      ]
     },
     "execution_count": 4,
     "metadata": {},
     "output_type": "execute_result"
    }
   ],
   "source": [
    "df = pd.read_csv(\"students_score_cleaned.csv\")\n",
    "df.drop(columns=[\"Unnamed: 0\"], inplace=True)\n",
    "df"
   ]
  },
  {
   "cell_type": "markdown",
   "id": "5bd8059f",
   "metadata": {},
   "source": [
    "2. a) Find the mean, median and average scores in mathematics, reading and writing. <br>\n",
    "   b) Find the mean, median and average scores for males and females.<br>\n",
    "   c) What is the coefficient of variation of the scores? <br>"
   ]
  },
  {
   "cell_type": "code",
   "execution_count": 17,
   "id": "50b4b85d",
   "metadata": {},
   "outputs": [
    {
     "name": "stdout",
     "output_type": "stream",
     "text": [
      "Mean Maths Score:  66.55994779681973\n",
      "Mean Reading Score:  69.39008139574818\n",
      "Mean Writing Score:  68.42933681354535\n",
      "Mean male scores:  69.03848816281324 65.82465734459366 63.88986570677004\n",
      "Mean female scores:  64.11941926249062 72.900824756322 72.89918887601391\n",
      "Coefficient of variation for Maths:  0.23053282736702593\n",
      "Coefficient of variation for Reading:  0.2127132583474032\n",
      "Coefficient of variation for Writing:  0.22574844991058549\n"
     ]
    }
   ],
   "source": [
    "#a)\n",
    "meanMaths = df[\"MathScore\"].mean()\n",
    "meanReading = df[\"ReadingScore\"].mean()\n",
    "meanWriting = df[\"WritingScore\"].mean()\n",
    "\n",
    "print(\"Mean Maths Score: \", meanMaths)\n",
    "print(\"Mean Reading Score: \", meanReading)\n",
    "print(\"Mean Writing Score: \", meanWriting)\n",
    "\n",
    "#b)\n",
    "maleMean = df.loc[df[\"Gender_male\"] == 1].mean()\n",
    "femaleMean = df.loc[df[\"Gender_female\"] == 1].mean()\n",
    "\n",
    "print(\"Mean male scores: \", maleMean[\"MathScore\"], maleMean[\"ReadingScore\"], maleMean[\"WritingScore\"])\n",
    "print(\"Mean female scores: \", femaleMean[\"MathScore\"], femaleMean[\"ReadingScore\"], femaleMean[\"WritingScore\"])\n",
    "\n",
    "#c)\n",
    "import statistics\n",
    "print(\"Coefficient of variation for Maths: \", statistics.stdev(df[\"MathScore\"]) / meanMaths)\n",
    "print(\"Coefficient of variation for Reading: \", statistics.stdev(df[\"ReadingScore\"]) / meanReading)\n",
    "print(\"Coefficient of variation for Writing: \", statistics.stdev(df[\"WritingScore\"]) / meanWriting)\n"
   ]
  },
  {
   "cell_type": "markdown",
   "id": "70855546",
   "metadata": {},
   "source": [
    "3. a) Use a statistical test to test the hypothesis:<br>\n",
    "H0: the mean mathematical scores of females and males are equal.\n",
    "\n"
   ]
  },
  {
   "cell_type": "code",
   "execution_count": 19,
   "id": "ef56f09c",
   "metadata": {},
   "outputs": [
    {
     "name": "stdout",
     "output_type": "stream",
     "text": [
      "Ttest_indResult(statistic=27.70843426303627, pvalue=8.09604172877808e-167)\n"
     ]
    }
   ],
   "source": [
    "#statistical test\n",
    "import scipy.stats as stats\n",
    "print(stats.ttest_ind(df.loc[df[\"Gender_male\"] == 1][\"MathScore\"], df.loc[df[\"Gender_female\"] == 1][\"MathScore\"]))"
   ]
  },
  {
   "cell_type": "markdown",
   "id": "341fda54",
   "metadata": {},
   "source": [
    "**We reject the hypothesis**"
   ]
  },
  {
   "cell_type": "markdown",
   "id": "06ebfd52",
   "metadata": {},
   "source": [
    "4. a) Use a statistical test to test the hypothesis:<br>\n",
    "   H0 Gender did not affect the writing scores.<br>\n",
    "   H1 Gender affected the writing score.<br>"
   ]
  },
  {
   "cell_type": "code",
   "execution_count": 21,
   "id": "e48b849b",
   "metadata": {},
   "outputs": [
    {
     "name": "stdout",
     "output_type": "stream",
     "text": [
      "ANOVA F-statistic: 2705.7625977133325\n",
      "ANOVA p-value: 0.0\n"
     ]
    }
   ],
   "source": [
    "#ANOVA test for writing scores of male and female\n",
    "import scipy.stats as stats\n",
    "\n",
    "male_scores = df.loc[df[\"Gender_male\"] == 1][\"WritingScore\"]\n",
    "female_scores = df.loc[df[\"Gender_female\"] == 1][\"WritingScore\"]\n",
    "\n",
    "f_statistic, p_value = stats.f_oneway(male_scores, female_scores)\n",
    "\n",
    "print(\"ANOVA F-statistic:\", f_statistic)\n",
    "print(\"ANOVA p-value:\", p_value)\n",
    "\n"
   ]
  },
  {
   "cell_type": "markdown",
   "id": "25b52e55",
   "metadata": {},
   "source": [
    "**Gender DID affect the writing scores**"
   ]
  },
  {
   "cell_type": "markdown",
   "id": "c46fde23",
   "metadata": {},
   "source": [
    "5. a) Statisticaly test the distribuitions of female and male scores across the three scores columns.<br>\n",
    "b) Plot the distributions for each of the separate scores in both genders. <br>"
   ]
  },
  {
   "cell_type": "code",
   "execution_count": 75,
   "id": "7a30aad6",
   "metadata": {},
   "outputs": [
    {
     "name": "stdout",
     "output_type": "stream",
     "text": [
      "                   sum_sq       df             F        PR(>F)\n",
      "MathScore     3177.766909      1.0  27468.214716  0.000000e+00\n",
      "WritingScore   707.227644      1.0   6113.186188  0.000000e+00\n",
      "ReadingScore    25.209512      1.0    217.907825  3.895583e-49\n",
      "Residual      3368.050271  29113.0           NaN           NaN\n"
     ]
    }
   ],
   "source": [
    "import statsmodels.api as sm\n",
    "from statsmodels.formula.api import ols\n",
    "\n",
    "# two-way ANOVA\n",
    "model = ols('Gender_female ~ MathScore + WritingScore + ReadingScore', data=df).fit()\n",
    "anova_table = sm.stats.anova_lm(model, typ=2)\n",
    "\n",
    "# Print the ANOVA table\n",
    "print(anova_table)\n"
   ]
  },
  {
   "cell_type": "code",
   "execution_count": 71,
   "id": "b6f65fa0",
   "metadata": {},
   "outputs": [
    {
     "data": {
      "image/png": "[encoded data removed]",
      "text/plain": [
       "<Figure size 640x480 with 1 Axes>"
      ]
     },
     "metadata": {},
     "output_type": "display_data"
    },
    {
     "data": {
      "image/png": "[encoded data removed]",
      "text/plain": [
       "<Figure size 640x480 with 1 Axes>"
      ]
     },
     "metadata": {},
     "output_type": "display_data"
    },
    {
     "data": {
      "image/png": "[encoded data removed]",
      "text/plain": [
       "<Figure size 640x480 with 1 Axes>"
      ]
     },
     "metadata": {},
     "output_type": "display_data"
    }
   ],
   "source": [
    "import matplotlib.pyplot as plt\n",
    "male_scores = df[df[\"Gender_male\"] == 1]\n",
    "female_scores = df[df[\"Gender_female\"] == 1]\n",
    "\n",
    "plt.hist(male_scores[\"MathScore\"], color=\"blue\", alpha = 0.6, bins=20)\n",
    "plt.hist(female_scores[\"MathScore\"], color=\"pink\", alpha=0.6, bins=20)\n",
    "plt.title(\"Maths Score\")\n",
    "plt.show()\n",
    "\n",
    "plt.hist(male_scores[\"ReadingScore\"], color=\"blue\", alpha = 0.6, bins=20)\n",
    "plt.hist(female_scores[\"ReadingScore\"], color=\"pink\", alpha=0.6, bins=20)\n",
    "plt.title(\"Maths ReadingScore\")\n",
    "plt.show()\n",
    "\n",
    "plt.hist(male_scores[\"WritingScore\"], color=\"blue\", alpha = 0.6, bins=20)\n",
    "plt.hist(female_scores[\"WritingScore\"], color=\"pink\", alpha=0.6, bins=20)\n",
    "plt.title(\"Maths WritingScore\")\n",
    "plt.show()\n"
   ]
  }
 ],
 "metadata": {
  "kernelspec": {
   "display_name": "Python 3 (ipykernel)",
   "language": "python",
   "name": "python3"
  },
  "language_info": {
   "codemirror_mode": {
    "name": "ipython",
    "version": 3
   },
   "file_extension": ".py",
   "mimetype": "text/x-python",
   "name": "python",
   "nbconvert_exporter": "python",
   "pygments_lexer": "ipython3",
   "version": "3.11.5"
  }
 },
 "nbformat": 4,
 "nbformat_minor": 5
}
